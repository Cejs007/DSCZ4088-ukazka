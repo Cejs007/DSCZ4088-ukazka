{
  "nbformat": 4,
  "nbformat_minor": 0,
  "metadata": {
    "colab": {
      "provenance": [],
      "authorship_tag": "ABX9TyNWfpEckMGUecKi4uptmQEz"
    },
    "kernelspec": {
      "name": "python3",
      "display_name": "Python 3"
    },
    "language_info": {
      "name": "python"
    }
  },
  "cells": [
    {
      "cell_type": "code",
      "execution_count": 1,
      "metadata": {
        "id": "9sJAWBmG5A5U"
      },
      "outputs": [],
      "source": [
        "a = 5\n",
        "b = 10"
      ]
    },
    {
      "cell_type": "code",
      "source": [
        "print(a + b)"
      ],
      "metadata": {
        "colab": {
          "base_uri": "https://localhost:8080/"
        },
        "id": "DqPpXwZ55Eg4",
        "outputId": "56c82302-f3e8-496e-b8de-a06ec3035744"
      },
      "execution_count": 2,
      "outputs": [
        {
          "output_type": "stream",
          "name": "stdout",
          "text": [
            "15\n"
          ]
        }
      ]
    },
    {
      "cell_type": "code",
      "source": [],
      "metadata": {
        "id": "avNQiGOC5Fm4"
      },
      "execution_count": null,
      "outputs": []
    }
  ]
}